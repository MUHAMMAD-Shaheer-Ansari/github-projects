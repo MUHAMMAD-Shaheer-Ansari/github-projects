{
  "nbformat": 4,
  "nbformat_minor": 0,
  "metadata": {
    "colab": {
      "provenance": [],
      "gpuType": "T4"
    },
    "kernelspec": {
      "name": "python3",
      "display_name": "Python 3"
    },
    "language_info": {
      "name": "python"
    },
    "accelerator": "GPU"
  },
  "cells": [
    {
      "cell_type": "code",
      "execution_count": null,
      "metadata": {
        "id": "4vgENaXwMp7s"
      },
      "outputs": [],
      "source": [
        "import numpy as np\n",
        "import cv2\n",
        "import tensorflow as tf\n",
        "from tensorflow.keras.preprocessing.text import Tokenizer\n",
        "from tensorflow.keras.preprocessing.sequence import pad_sequences"
      ]
    },
    {
      "cell_type": "code",
      "source": [
        "def compute_idx(X,centroids):\n",
        "  m = X.shape[0]\n",
        "  idx = np.zeros(m,dtype = np.int8)\n",
        "  for i in range(m):\n",
        "    distance = []\n",
        "    for j in range(centroids.shape[0]):\n",
        "      norm = np.linalg.norm(X[i]-centroids[j])\n",
        "      distance.append(norm)\n",
        "    idx[i] = np.argmin(distance)\n",
        "  return idx"
      ],
      "metadata": {
        "id": "uusoZkJoNA1k"
      },
      "execution_count": null,
      "outputs": []
    },
    {
      "cell_type": "code",
      "source": [
        "def compute_centroids(X,K,idx):\n",
        "  m,n = X.shape\n",
        "  centroids = np.zeros((K,n))\n",
        "  for k in range(K):\n",
        "    points = X[idx == k]\n",
        "    centroids[k] = np.mean(points , axis = 0)\n",
        "  return centroids"
      ],
      "metadata": {
        "id": "Y_7KYacnN73n"
      },
      "execution_count": null,
      "outputs": []
    },
    {
      "cell_type": "code",
      "source": [
        "def initial_centroids(X,K):\n",
        "  m = X.shape[0]\n",
        "  rand = np.random.permutation(m)\n",
        "  centroids = X[rand[:K]]\n",
        "\n",
        "  return centroids"
      ],
      "metadata": {
        "id": "-mdkD-74OSNx"
      },
      "execution_count": null,
      "outputs": []
    },
    {
      "cell_type": "code",
      "source": [
        "def k_mean(X,K,iterations):\n",
        "  centroids = initial_centroids(X,K)\n",
        "  for i in range(iterations):\n",
        "    idx = compute_idx(X,centroids)\n",
        "    centroids = compute_centroids(X,K,idx)\n",
        "\n",
        "  return idx , centroids"
      ],
      "metadata": {
        "id": "76T7iRELOrzW"
      },
      "execution_count": null,
      "outputs": []
    }
  ]
}